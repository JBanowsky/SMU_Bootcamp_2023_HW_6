{
 "cells": [
  {
   "cell_type": "markdown",
   "metadata": {},
   "source": [
    "# WeatherPy\n",
    "\n",
    "---\n",
    "\n",
    "## Starter Code to Generate Random Geographic Coordinates and a List of Cities"
   ]
  },
  {
   "cell_type": "code",
   "execution_count": 2,
   "metadata": {
    "scrolled": true
   },
   "outputs": [],
   "source": [
    "# Dependencies and Setup\n",
    "import matplotlib.pyplot as plt\n",
    "import pandas as pd\n",
    "import numpy as np\n",
    "import requests\n",
    "import time\n",
    "from scipy.stats import linregress\n",
    "\n",
    "# Impor the OpenWeatherMap API key\n",
    "from api_keys import weather_api_key\n",
    "\n",
    "# Import citipy to determine the cities based on latitude and longitude\n",
    "from citipy import citipy"
   ]
  },
  {
   "cell_type": "markdown",
   "metadata": {},
   "source": [
    "### Generate the Cities List by Using the `citipy` Library"
   ]
  },
  {
   "cell_type": "code",
   "execution_count": 3,
   "metadata": {},
   "outputs": [
    {
     "name": "stdout",
     "output_type": "stream",
     "text": [
      "Number of cities in the list: 605\n"
     ]
    }
   ],
   "source": [
    "# Empty list for holding the latitude and longitude combinations\n",
    "lat_lngs = []\n",
    "\n",
    "# Empty list for holding the cities names\n",
    "cities = []\n",
    "\n",
    "# Range of latitudes and longitudes\n",
    "lat_range = (-90, 90)\n",
    "lng_range = (-180, 180)\n",
    "\n",
    "# Create a set of random lat and lng combinations\n",
    "lats = np.random.uniform(lat_range[0], lat_range[1], size=1500)\n",
    "lngs = np.random.uniform(lng_range[0], lng_range[1], size=1500)\n",
    "lat_lngs = zip(lats, lngs)\n",
    "\n",
    "# Identify nearest city for each lat, lng combination\n",
    "for lat_lng in lat_lngs:\n",
    "    city = citipy.nearest_city(lat_lng[0], lat_lng[1]).city_name\n",
    "    \n",
    "    # If the city is unique, then add it to a our cities list\n",
    "    if city not in cities:\n",
    "        cities.append(city)\n",
    "\n",
    "# Print the city count to confirm sufficient count\n",
    "print(f\"Number of cities in the list: {len(cities)}\")"
   ]
  },
  {
   "cell_type": "code",
   "execution_count": 4,
   "metadata": {},
   "outputs": [
    {
     "name": "stdout",
     "output_type": "stream",
     "text": [
      "['kirkwall', 'tangalle', 'mata-utu', 'taiohae', 'port-aux-francais', 'blackmans bay', 'puerto san carlos', 'mount gambier', 'longyearbyen', 'albany', 'molde', 'kingston', 'east london', 'chonchi', 'yafran', 'gadzhiyevo', 'peniche', 'saipan', 'bilibino', 'pyapon', 'tolanaro', 'daru', 'vilyuchinsk', 'ribeira grande', 'vernon', 'richards bay', 'anna regina', 'fuvahmulah', 'grytviken', 'atafu village', 'anzio', 'adamstown', 'ushuaia', 'waitangi', 'severo-yeniseyskiy', 'happy valley-goose bay', 'uribia', 'isafjordur', 'pontian kechil', \"la'ie\", 'tiksi', 'college', 'puerto natales', 'teluknaga', 'benghazi', 'iqaluit', 'lebu', 'edinburgh of the seven seas', 'berezovo', 'igarka', 'hermanus', \"kapa'a\", 'la passe', 'papatowai', 'broken hill', 'hithadhoo', \"'ain el bell\", 'stanley', 'atoyac de alvarez', 'bargaal', 'qamdo', 'coahuayana de hidalgo', 'nema', 'pacific grove', 'bredasdorp', 'la ronge', 'yellowknife', 'puerto ayora', 'utrik', 'talakan', 'kokstad', 'new norfolk', 'wailua homesteads', 'qaqortoq', 'aripuana', 'west island', 'coari', 'ishigaki', 'jutai', 'san martin', 'carnarvon', 'lompoc', 'portland', 'valenca do piaui', 'thompson', 'olonkinbyen', 'naze', 'geraldton', 'artova', 'taulaga', 'rio grande', 'acarau', 'bethel', 'pocone', 'ataq', 'goondiwindi', 'colonia', 'gobabis', 'medjez el bab', 'sitka', 'cabo san lucas', 'tual', 'port lincoln', 'mangalia', 'baijiantan', 'newman', 'mariental', 'mahina', 'petatlan', 'dakhla', 'anadyr', 'ingeniero jacobacci', 'marsala', 'nazarovo', 'margaret river', 'huarmey', 'bontang', 'iskateley', 'hanoi', 'usinsk', 'madang', 'fortaleza', 'yamada', 'codrington', 'kawerau', 'petropavlovsk-kamchatsky', 'beloyarskiy', 'tengrela', 'hobyo', 'bubaque', 'odemis', 'kankan', 'amungan', 'georgetown', 'vadso', 'vorgashor', 'marsh harbour', 'afaahiti', 'ayaguz', 'morant bay', 'morogoro', 'whitehorse', 'hawaiian paradise park', 'udachny', 'port-gentil', 'satipo', 'port elizabeth', 'talnakh', 'manokwari', 'illizi', 'lycksele', 'taoudenni', 'brisas de zicatela', 'puerto ayacucho', 'los altos', 'sinop', 'kalmunai', 'torres', 'pandharpur', 'coyuca de catalan', 'kourou', 'pemangkat', 'aasiaat', 'tofol', 'orapa', 'puerto baquerizo moreno', 'pacasmayo', 'doganyol', 'noumea', 'murghob', 'invercargill', 'renk', 'ras gharib', 'funafuti', 'pariaman', 'cambria', 'jeddah', 'kasama', 'vylkove', 'lerwick', 'hasaki', \"magistral'nyy\", 'ciudad lazaro cardenas', 'mattoon', 'badger', 'motueka', 'savelugu', 'aleksandrovskoye', 'weisswasser', \"nar'yan-mar\", 'santo antonio do ica', 'ghat', 'burang', 'avarua', 'castillos', 'alakurtti', 'locharbriggs', 'vila franca do campo', 'san antonio de pale', 'el fasher', 'sur', 'pago pago', 'sukumo', 'ponta delgada', \"ma'rib\", 'lautoka', 'keokuk', 'khovd', 'novo aripuana', 'atbasar', 'weno', 'ocean shores', 'ola', 'sorong', 'angaur state', 'hamilton', 'ust-nera', 'calabugao', 'ilulissat', 'alice springs', 'gaeta', 'yerofey pavlovich', 'nova sintra', 'palm coast', 'qusmuryn', 'kirriemuir', 'kununurra', 'kavaratti', 'freetown', 'sakaiminato', 'yylanly', 'okeho', 'tannum sands', 'laguna', 'altamont', 'zharkent', 'khulm', 'carolina beach', 'queenstown', 'stephenville', 'jamestown', 'punta arenas', 'palmer', 'saurimo', 'boulazac', 'labytnangi', 'la punta', 'mungwi', 'crane', 'kasempa', 'mildura', 'tabou', 'narvik', 'pokachi', 'sao jose da coroa grande', 'tunduma', 'bandon', 'constantia', 'mili', 'nova olimpia', 'fort st. john', 'badagry', 'kruisfontein', 'guarapari', \"nuku'alofa\", 'laojunmiao', 'zhangye', 'cannonvale', 'keflavik', 'tura', 'tosham', 'kudat', 'rongelap', 'anatuya', 'hafar al-batin', 'enfield town', 'boa vista', 'kismayo', 'jha-jha', 'vingt cinq', \"nevel'sk\", 'vorkuta', 'port alfred', 'bridgewater', 'tranovaho', 'moapa valley', 'ulaangom', 'cargados carajos', 'kuta', 'savanur', 'nyurba', 'kedrovyy', 'mena', 'itamaraca', 'kill devil hills', 'luderitz', 'san julian', 'kosice', 'saldanha', 'alaghsas', 'uturoa', 'marsaskala', 'gaiman', 'pemba', 'barreiro do jaiba', 'matthew town', 'hobaramachi', 'teluk nibung', 'sisimiut', 'enewetak', 'pandan', 'anar darah', 'kuala kedah', 'minas de marcona', 'maintirano', 'jose mariano jimenez', 'manoharpur', 'nova xavantina', 'mogadishu', 'haiku-pauwela', 'alotau', 'yei', 'huilong', 'campo belo', 'whangarei', 'charters towers', 'bamboo flat', 'miandrivazo', 'qarauyl', 'dudinka', 'ibirama', 'lincoln city', 'mangrol', 'yulinshi', 'el porvenir', 'fale old settlement', 'ban tak', 'sao joao da barra', 'las lomitas', 'kurkino', 'tindouf', 'bikenibeu village', 'las heras', 'mejit', 'ulladulla', 'necochea', 'chiredzi', 'mahriz', 'espargos', 'oriximina', 'tvoroyri', 'bolobo', 'svyetlahorsk', 'khandyga', 'nouadhibou', 'namibe', 'phitsanulok', 'alofi', 'trancoso', 'viqueque', 'aykhal', 'tralee', 'yokadouma', 'serov', 'tazovsky', 'douglas', 'olinda', 'big rapids', 'pervomayskoye', 'mundybash', 'el charco', 'tionk essil', \"st. john's\", 'dingcheng', 'kodiak', 'kovdor', 'port mathurin', 'igarapava', 'kapuskasing', 'emirdag', 'alamos', 'hilo', 'yeed', 'egilsstadir', 'cam ranh', 'wafangdian', 'kristiansund', 'katsuren-haebaru', 'arraial do cabo', 'san jose iturbide', 'ketchikan', 'puerto rico', 'remire-montjoly', \"'ohonua\", 'altay', 'ahau', 'mockrehna', 'ancud', 'dokkum', 'galesong', 'machico', 'tsiombe', 'margate', 'beltran', 'westport', 'sohar', 'le vauclin', 'cozumel', 'kone', 'trincomalee', 'boone', 'mount pearl', 'kawthoung', 'quellon', 'darjiling', 'siwa oasis', 'maragogi', 'hovd', 'arapgir', 'mor', 'saint-gilles', \"ak'ordat\", 'juchipila', 'nizhniy ingash', 'bogatynia', 'port macquarie', 'george town', 'acajutla', 'nemuro', 'aichach', 'sorsk', 'fregenal de la sierra', 'winejok', 'magadan', 'flying fish cove', 'palu', 'lubartow', 'punta del este', 'cooma', 'cadale', 'fortuna', 'zhaoqing', 'itapirapua', 'thunder bay', \"ytyk-kyuyel'\", 'hirara', 'omuthiya', 'sirte', 'dawson creek', 'toga village', 'taltal', 'mollendo', 'kisanga', 'paradip garh', 'cold lake', 'itoman', 'katsuura', 'hadibu', 'lodwar', 'lihue', 'bykovo', 'obihiro', 'lahad datu', 'boras', 'ta`u', 'santa marta', 'ulety', 'fort bragg', 'keetmanshoop', 'sudzha', 'cabedelo', 'usogorsk', 'taksimo', 'kailua-kona', 'mugia', 'las khorey', 'maridi', 'suarez', 'holualoa', 'aldinga beach', 'gedo', 'turpan', 'tutoia', 'tamanrasset', \"port saint john's\", 'sarmiento', 'rukban', 'san vicente de chucuri', 'labrador city', 'tenabo', 'muhos', 'selfoss', 'al bawiti', 'nuuk', \"bei'an\", 'dapa', 'santiago', 'malanje', 'colchani', 'satna', 'aweil', 'kodinar', 'kulia village', 'oliveira dos brejinhos', 'tenno', 'benjamin constant', 'guerrero negro', 'kyain seikgyi township', 'zephyrhills', 'malpica', 'borzya', 'xining', 'portage la prairie', 'suai', 'volodarskiy', 'mazagao', 'madimba', \"yuzhnoural'sk\", 'cidade velha', 'tomatlan', 'geneina', 'balnearia', 'isle of arran', 'port augusta', 'pangody', 'erenhot', 'joshimath', 'hell-ville', 'bikin', 'tynda', 'lorengau', 'pitea', 'prince rupert', 'chui', 'bandarbeyla', 'pingdingshan', 'bardai', 'biloela', 'yuzhno-kurilsk', 'ubon ratchathani', 'carutapera', 'warrnambool', 'requena', 'kerikeri', 'jizzax', 'praia', 'saint-pierre', 'yermolayevo', 'san ramon', 'swakopmund', 'metkovic', 'north bend', 'porto novo', 'mingguang', 'yendi', 'micheweni', 'ca mau', 'collie', 'huangmei', 'tazacorte', 'mandalgovi', 'conception bay south', 'toliara', 'gorontalo', 'kalymnos', 'giado', 'narrabri', 'manzini', 'la foa', 'akom ii', 'bukama', 'pagar alam', 'east ballina', 'santa marta de ortigueira', 'winnemucca', 'mengcheng chengguanzhen', 'beau vallon', 'afif', 'opuwo', 'ringkobing', 'macapa', 'lazaro cardenas', 'vershino-darasunskiy', 'abbeville', 'cururupu', 'pashkovskiy', 'anloga', 'saint-francois', 'arenapolis', 'calvinia', 'malango', 'xiulin', 'urangan', 'boden', 'okhotsk', 'kaa-khem', 'yelizovo', 'tezu', 'lebowakgomo', 'walla walla', 'constitucion', 'coquimbo', 'verkhnevilyuysk', 'al qitena', 'windhoek']\n"
     ]
    }
   ],
   "source": [
    "print(cities)"
   ]
  },
  {
   "cell_type": "markdown",
   "metadata": {},
   "source": [
    "---"
   ]
  },
  {
   "cell_type": "markdown",
   "metadata": {},
   "source": [
    "## Requirement 1: Create Plots to Showcase the Relationship Between Weather Variables and Latitude\n",
    "\n",
    "### Use the OpenWeatherMap API to retrieve weather data from the cities list generated in the started code"
   ]
  },
  {
   "cell_type": "code",
   "execution_count": null,
   "metadata": {},
   "outputs": [
    {
     "name": "stdout",
     "output_type": "stream",
     "text": [
      "Beginning Data Retrieval     \n",
      "-----------------------------\n",
      "Processing Record 1 of Set 1 | kirkwall\n",
      "Processing Record 2 of Set 1 | tangalle\n",
      "Processing Record 3 of Set 1 | mata-utu\n",
      "Processing Record 4 of Set 1 | taiohae\n",
      "'coord'\n",
      "City not found. Skipping...\n",
      "Processing Record 5 of Set 1 | port-aux-francais\n",
      "Processing Record 6 of Set 1 | blackmans bay\n",
      "Processing Record 7 of Set 1 | puerto san carlos\n",
      "'coord'\n",
      "City not found. Skipping...\n",
      "Processing Record 8 of Set 1 | mount gambier\n",
      "Processing Record 9 of Set 1 | longyearbyen\n",
      "Processing Record 10 of Set 1 | albany\n",
      "Processing Record 11 of Set 1 | molde\n",
      "Processing Record 12 of Set 1 | kingston\n",
      "Processing Record 13 of Set 1 | east london\n",
      "Processing Record 14 of Set 1 | chonchi\n",
      "Processing Record 15 of Set 1 | yafran\n",
      "Processing Record 16 of Set 1 | gadzhiyevo\n",
      "Processing Record 17 of Set 1 | peniche\n",
      "Processing Record 18 of Set 1 | saipan\n",
      "Processing Record 19 of Set 1 | bilibino\n",
      "Processing Record 20 of Set 1 | pyapon\n",
      "Processing Record 21 of Set 1 | tolanaro\n",
      "Processing Record 22 of Set 1 | daru\n",
      "Processing Record 23 of Set 1 | vilyuchinsk\n",
      "Processing Record 24 of Set 1 | ribeira grande\n",
      "Processing Record 25 of Set 1 | vernon\n",
      "Processing Record 26 of Set 1 | richards bay\n",
      "Processing Record 27 of Set 1 | anna regina\n",
      "Processing Record 28 of Set 1 | fuvahmulah\n",
      "'coord'\n",
      "City not found. Skipping...\n",
      "Processing Record 29 of Set 1 | grytviken\n",
      "Processing Record 30 of Set 1 | atafu village\n",
      "Processing Record 31 of Set 1 | anzio\n",
      "Processing Record 32 of Set 1 | adamstown\n",
      "Processing Record 33 of Set 1 | ushuaia\n",
      "Processing Record 34 of Set 1 | waitangi\n",
      "Processing Record 35 of Set 1 | severo-yeniseyskiy\n",
      "Processing Record 36 of Set 1 | happy valley-goose bay\n",
      "Processing Record 37 of Set 1 | uribia\n",
      "Processing Record 38 of Set 1 | isafjordur\n",
      "Processing Record 39 of Set 1 | pontian kechil\n",
      "Processing Record 40 of Set 1 | la'ie\n",
      "Processing Record 41 of Set 1 | tiksi\n",
      "Processing Record 42 of Set 1 | college\n",
      "Processing Record 43 of Set 1 | puerto natales\n",
      "Processing Record 44 of Set 1 | teluknaga\n",
      "Processing Record 45 of Set 1 | benghazi\n",
      "Processing Record 46 of Set 1 | iqaluit\n",
      "Processing Record 47 of Set 1 | lebu\n",
      "Processing Record 48 of Set 1 | edinburgh of the seven seas\n",
      "Processing Record 49 of Set 1 | berezovo\n",
      "Processing Record 50 of Set 1 | igarka\n",
      "Processing Record 0 of Set 2 | hermanus\n",
      "Processing Record 1 of Set 2 | kapa'a\n",
      "Processing Record 2 of Set 2 | la passe\n",
      "Processing Record 3 of Set 2 | papatowai\n",
      "Processing Record 4 of Set 2 | broken hill\n",
      "Processing Record 5 of Set 2 | hithadhoo\n",
      "Processing Record 6 of Set 2 | 'ain el bell\n",
      "Processing Record 7 of Set 2 | stanley\n",
      "Processing Record 8 of Set 2 | atoyac de alvarez\n",
      "Processing Record 9 of Set 2 | bargaal\n",
      "Processing Record 10 of Set 2 | qamdo\n",
      "Processing Record 11 of Set 2 | coahuayana de hidalgo\n",
      "Processing Record 12 of Set 2 | nema\n",
      "Processing Record 13 of Set 2 | pacific grove\n",
      "Processing Record 14 of Set 2 | bredasdorp\n",
      "Processing Record 15 of Set 2 | la ronge\n",
      "Processing Record 16 of Set 2 | yellowknife\n",
      "Processing Record 17 of Set 2 | puerto ayora\n",
      "Processing Record 18 of Set 2 | utrik\n",
      "Processing Record 19 of Set 2 | talakan\n",
      "Processing Record 20 of Set 2 | kokstad\n",
      "Processing Record 21 of Set 2 | new norfolk\n",
      "Processing Record 22 of Set 2 | wailua homesteads\n",
      "Processing Record 23 of Set 2 | qaqortoq\n",
      "Processing Record 24 of Set 2 | aripuana\n",
      "Processing Record 25 of Set 2 | west island\n",
      "Processing Record 26 of Set 2 | coari\n",
      "Processing Record 27 of Set 2 | ishigaki\n",
      "Processing Record 28 of Set 2 | jutai\n",
      "Processing Record 29 of Set 2 | san martin\n",
      "Processing Record 30 of Set 2 | carnarvon\n",
      "Processing Record 31 of Set 2 | lompoc\n",
      "Processing Record 32 of Set 2 | portland\n",
      "Processing Record 33 of Set 2 | valenca do piaui\n",
      "Processing Record 34 of Set 2 | thompson\n",
      "Processing Record 35 of Set 2 | olonkinbyen\n",
      "Processing Record 36 of Set 2 | naze\n",
      "Processing Record 37 of Set 2 | geraldton\n",
      "Processing Record 38 of Set 2 | artova\n",
      "Processing Record 39 of Set 2 | taulaga\n",
      "Processing Record 40 of Set 2 | rio grande\n",
      "Processing Record 41 of Set 2 | acarau\n",
      "Processing Record 42 of Set 2 | bethel\n",
      "Processing Record 43 of Set 2 | pocone\n",
      "Processing Record 44 of Set 2 | ataq\n",
      "Processing Record 45 of Set 2 | goondiwindi\n",
      "Processing Record 46 of Set 2 | colonia\n",
      "Processing Record 47 of Set 2 | gobabis\n",
      "Processing Record 48 of Set 2 | medjez el bab\n",
      "Processing Record 49 of Set 2 | sitka\n",
      "Processing Record 0 of Set 3 | cabo san lucas\n",
      "Processing Record 1 of Set 3 | tual\n",
      "Processing Record 2 of Set 3 | port lincoln\n",
      "Processing Record 3 of Set 3 | mangalia\n",
      "Processing Record 4 of Set 3 | baijiantan\n",
      "Processing Record 5 of Set 3 | newman\n",
      "Processing Record 6 of Set 3 | mariental\n",
      "Processing Record 7 of Set 3 | mahina\n",
      "Processing Record 8 of Set 3 | petatlan\n",
      "Processing Record 9 of Set 3 | dakhla\n",
      "Processing Record 10 of Set 3 | anadyr\n",
      "Processing Record 11 of Set 3 | ingeniero jacobacci\n",
      "Processing Record 12 of Set 3 | marsala\n",
      "Processing Record 13 of Set 3 | nazarovo\n",
      "Processing Record 14 of Set 3 | margaret river\n",
      "Processing Record 15 of Set 3 | huarmey\n",
      "Processing Record 16 of Set 3 | bontang\n",
      "Processing Record 17 of Set 3 | iskateley\n",
      "Processing Record 18 of Set 3 | hanoi\n",
      "Processing Record 19 of Set 3 | usinsk\n",
      "Processing Record 20 of Set 3 | madang\n",
      "Processing Record 21 of Set 3 | fortaleza\n",
      "Processing Record 22 of Set 3 | yamada\n",
      "Processing Record 23 of Set 3 | codrington\n",
      "Processing Record 24 of Set 3 | kawerau\n",
      "Processing Record 25 of Set 3 | petropavlovsk-kamchatsky\n",
      "Processing Record 26 of Set 3 | beloyarskiy\n",
      "Processing Record 27 of Set 3 | tengrela\n",
      "Processing Record 28 of Set 3 | hobyo\n",
      "Processing Record 29 of Set 3 | bubaque\n",
      "Processing Record 30 of Set 3 | odemis\n",
      "'coord'\n",
      "City not found. Skipping...\n",
      "Processing Record 31 of Set 3 | kankan\n",
      "Processing Record 32 of Set 3 | amungan\n",
      "Processing Record 33 of Set 3 | georgetown\n",
      "Processing Record 34 of Set 3 | vadso\n",
      "Processing Record 35 of Set 3 | vorgashor\n",
      "Processing Record 36 of Set 3 | marsh harbour\n",
      "Processing Record 37 of Set 3 | afaahiti\n",
      "Processing Record 38 of Set 3 | ayaguz\n",
      "'coord'\n",
      "City not found. Skipping...\n",
      "Processing Record 39 of Set 3 | morant bay\n",
      "Processing Record 40 of Set 3 | morogoro\n",
      "Processing Record 41 of Set 3 | whitehorse\n",
      "Processing Record 42 of Set 3 | hawaiian paradise park\n",
      "Processing Record 43 of Set 3 | udachny\n",
      "Processing Record 44 of Set 3 | port-gentil\n",
      "Processing Record 45 of Set 3 | satipo\n",
      "Processing Record 46 of Set 3 | port elizabeth\n",
      "Processing Record 47 of Set 3 | talnakh\n",
      "Processing Record 48 of Set 3 | manokwari\n",
      "Processing Record 49 of Set 3 | illizi\n",
      "Processing Record 0 of Set 4 | lycksele\n",
      "Processing Record 1 of Set 4 | taoudenni\n",
      "Processing Record 2 of Set 4 | brisas de zicatela\n",
      "Processing Record 3 of Set 4 | puerto ayacucho\n",
      "Processing Record 4 of Set 4 | los altos\n",
      "Processing Record 5 of Set 4 | sinop\n",
      "Processing Record 6 of Set 4 | kalmunai\n",
      "Processing Record 7 of Set 4 | torres\n",
      "Processing Record 8 of Set 4 | pandharpur\n",
      "Processing Record 9 of Set 4 | coyuca de catalan\n",
      "Processing Record 10 of Set 4 | kourou\n",
      "Processing Record 11 of Set 4 | pemangkat\n",
      "Processing Record 12 of Set 4 | aasiaat\n",
      "Processing Record 13 of Set 4 | tofol\n",
      "Processing Record 14 of Set 4 | orapa\n",
      "Processing Record 15 of Set 4 | puerto baquerizo moreno\n",
      "Processing Record 16 of Set 4 | pacasmayo\n",
      "Processing Record 17 of Set 4 | doganyol\n",
      "Processing Record 18 of Set 4 | noumea\n",
      "Processing Record 19 of Set 4 | murghob\n",
      "Processing Record 20 of Set 4 | invercargill\n",
      "Processing Record 21 of Set 4 | renk\n",
      "'coord'\n",
      "City not found. Skipping...\n",
      "Processing Record 22 of Set 4 | ras gharib\n",
      "'coord'\n",
      "City not found. Skipping...\n",
      "Processing Record 23 of Set 4 | funafuti\n",
      "Processing Record 24 of Set 4 | pariaman\n",
      "Processing Record 25 of Set 4 | cambria\n",
      "Processing Record 26 of Set 4 | jeddah\n",
      "Processing Record 27 of Set 4 | kasama\n",
      "Processing Record 28 of Set 4 | vylkove\n",
      "Processing Record 29 of Set 4 | lerwick\n",
      "Processing Record 30 of Set 4 | hasaki\n",
      "Processing Record 31 of Set 4 | magistral'nyy\n",
      "Processing Record 32 of Set 4 | ciudad lazaro cardenas\n",
      "Processing Record 33 of Set 4 | mattoon\n",
      "Processing Record 34 of Set 4 | badger\n",
      "Processing Record 35 of Set 4 | motueka\n",
      "Processing Record 36 of Set 4 | savelugu\n",
      "Processing Record 37 of Set 4 | aleksandrovskoye\n",
      "Processing Record 38 of Set 4 | weisswasser\n"
     ]
    },
    {
     "name": "stdout",
     "output_type": "stream",
     "text": [
      "Processing Record 39 of Set 4 | nar'yan-mar\n",
      "Processing Record 40 of Set 4 | santo antonio do ica\n",
      "Processing Record 41 of Set 4 | ghat\n",
      "Processing Record 42 of Set 4 | burang\n",
      "Processing Record 43 of Set 4 | avarua\n",
      "Processing Record 44 of Set 4 | castillos\n",
      "Processing Record 45 of Set 4 | alakurtti\n",
      "Processing Record 46 of Set 4 | locharbriggs\n",
      "Processing Record 47 of Set 4 | vila franca do campo\n",
      "Processing Record 48 of Set 4 | san antonio de pale\n",
      "Processing Record 49 of Set 4 | el fasher\n",
      "Processing Record 0 of Set 5 | sur\n",
      "Processing Record 1 of Set 5 | pago pago\n",
      "Processing Record 2 of Set 5 | sukumo\n",
      "Processing Record 3 of Set 5 | ponta delgada\n",
      "Processing Record 4 of Set 5 | ma'rib\n",
      "Processing Record 5 of Set 5 | lautoka\n",
      "Processing Record 6 of Set 5 | keokuk\n",
      "Processing Record 7 of Set 5 | khovd\n",
      "Processing Record 8 of Set 5 | novo aripuana\n",
      "Processing Record 9 of Set 5 | atbasar\n",
      "Processing Record 10 of Set 5 | weno\n",
      "Processing Record 11 of Set 5 | ocean shores\n",
      "Processing Record 12 of Set 5 | ola\n",
      "Processing Record 13 of Set 5 | sorong\n",
      "Processing Record 14 of Set 5 | angaur state\n",
      "Processing Record 15 of Set 5 | hamilton\n",
      "Processing Record 16 of Set 5 | ust-nera\n",
      "Processing Record 17 of Set 5 | calabugao\n",
      "Processing Record 18 of Set 5 | ilulissat\n",
      "Processing Record 19 of Set 5 | alice springs\n",
      "Processing Record 20 of Set 5 | gaeta\n",
      "Processing Record 21 of Set 5 | yerofey pavlovich\n",
      "Processing Record 22 of Set 5 | nova sintra\n",
      "Processing Record 23 of Set 5 | palm coast\n",
      "Processing Record 24 of Set 5 | qusmuryn\n",
      "Processing Record 25 of Set 5 | kirriemuir\n",
      "Processing Record 26 of Set 5 | kununurra\n",
      "Processing Record 27 of Set 5 | kavaratti\n",
      "Processing Record 28 of Set 5 | freetown\n",
      "Processing Record 29 of Set 5 | sakaiminato\n",
      "Processing Record 30 of Set 5 | yylanly\n",
      "'coord'\n",
      "City not found. Skipping...\n",
      "Processing Record 31 of Set 5 | okeho\n",
      "Processing Record 32 of Set 5 | tannum sands\n",
      "Processing Record 33 of Set 5 | laguna\n",
      "Processing Record 34 of Set 5 | altamont\n",
      "Processing Record 35 of Set 5 | zharkent\n",
      "Processing Record 36 of Set 5 | khulm\n",
      "Processing Record 37 of Set 5 | carolina beach\n",
      "Processing Record 38 of Set 5 | queenstown\n",
      "Processing Record 39 of Set 5 | stephenville\n",
      "Processing Record 40 of Set 5 | jamestown\n",
      "Processing Record 41 of Set 5 | punta arenas\n",
      "Processing Record 42 of Set 5 | palmer\n",
      "Processing Record 43 of Set 5 | saurimo\n",
      "Processing Record 44 of Set 5 | boulazac\n",
      "Processing Record 45 of Set 5 | labytnangi\n",
      "Processing Record 46 of Set 5 | la punta\n",
      "Processing Record 47 of Set 5 | mungwi\n",
      "Processing Record 48 of Set 5 | crane\n",
      "Processing Record 49 of Set 5 | kasempa\n",
      "Processing Record 0 of Set 6 | mildura\n",
      "Processing Record 1 of Set 6 | tabou\n",
      "Processing Record 2 of Set 6 | narvik\n",
      "Processing Record 3 of Set 6 | pokachi\n",
      "Processing Record 4 of Set 6 | sao jose da coroa grande\n",
      "Processing Record 5 of Set 6 | tunduma\n",
      "Processing Record 6 of Set 6 | bandon\n",
      "Processing Record 7 of Set 6 | constantia\n",
      "Processing Record 8 of Set 6 | mili\n",
      "Processing Record 9 of Set 6 | nova olimpia\n",
      "Processing Record 10 of Set 6 | fort st. john\n",
      "Processing Record 11 of Set 6 | badagry\n",
      "Processing Record 12 of Set 6 | kruisfontein\n",
      "Processing Record 13 of Set 6 | guarapari\n",
      "HTTPSConnectionPool(host='api.openweathermap.org', port=443): Read timed out. (read timeout=None)\n",
      "City not found. Skipping...\n",
      "Processing Record 14 of Set 6 | nuku'alofa\n",
      "HTTPSConnectionPool(host='api.openweathermap.org', port=443): Read timed out. (read timeout=None)\n",
      "City not found. Skipping...\n",
      "Processing Record 15 of Set 6 | laojunmiao\n",
      "HTTPSConnectionPool(host='api.openweathermap.org', port=443): Read timed out. (read timeout=None)\n",
      "City not found. Skipping...\n",
      "Processing Record 16 of Set 6 | zhangye\n",
      "HTTPSConnectionPool(host='api.openweathermap.org', port=443): Read timed out. (read timeout=None)\n",
      "City not found. Skipping...\n",
      "Processing Record 17 of Set 6 | cannonvale\n",
      "Processing Record 18 of Set 6 | keflavik\n",
      "Processing Record 19 of Set 6 | tura\n",
      "Processing Record 20 of Set 6 | tosham\n",
      "Processing Record 21 of Set 6 | kudat\n",
      "Processing Record 22 of Set 6 | rongelap\n",
      "Processing Record 23 of Set 6 | anatuya\n",
      "Processing Record 24 of Set 6 | hafar al-batin\n",
      "Processing Record 25 of Set 6 | enfield town\n",
      "Processing Record 26 of Set 6 | boa vista\n",
      "Processing Record 27 of Set 6 | kismayo\n",
      "Processing Record 28 of Set 6 | jha-jha\n",
      "Processing Record 29 of Set 6 | vingt cinq\n",
      "'coord'\n",
      "City not found. Skipping...\n",
      "Processing Record 30 of Set 6 | nevel'sk\n",
      "Processing Record 31 of Set 6 | vorkuta\n",
      "Processing Record 32 of Set 6 | port alfred\n",
      "Processing Record 33 of Set 6 | bridgewater\n",
      "Processing Record 34 of Set 6 | tranovaho\n",
      "'coord'\n",
      "City not found. Skipping...\n",
      "Processing Record 35 of Set 6 | moapa valley\n",
      "Processing Record 36 of Set 6 | ulaangom\n",
      "Processing Record 37 of Set 6 | cargados carajos\n",
      "'coord'\n",
      "City not found. Skipping...\n",
      "Processing Record 38 of Set 6 | kuta\n",
      "Processing Record 39 of Set 6 | savanur\n",
      "Processing Record 40 of Set 6 | nyurba\n",
      "Processing Record 41 of Set 6 | kedrovyy\n",
      "Processing Record 42 of Set 6 | mena\n",
      "Processing Record 43 of Set 6 | itamaraca\n",
      "Processing Record 44 of Set 6 | kill devil hills\n",
      "Processing Record 45 of Set 6 | luderitz\n",
      "Processing Record 46 of Set 6 | san julian\n",
      "Processing Record 47 of Set 6 | kosice\n",
      "Processing Record 48 of Set 6 | saldanha\n",
      "Processing Record 49 of Set 6 | alaghsas\n",
      "Processing Record 0 of Set 7 | uturoa\n"
     ]
    }
   ],
   "source": [
    "# Set the API base URL\n",
    "url = f\"https://api.openweathermap.org/data/2.5/weather?appid={weather_api_key}&units=imperial\"\n",
    "\n",
    "# Define an empty list to fetch the weather data for each city\n",
    "city_data = []\n",
    "\n",
    "# Print to logger\n",
    "print(\"Beginning Data Retrieval     \")\n",
    "print(\"-----------------------------\")\n",
    "\n",
    "# Create counters\n",
    "record_count = 1\n",
    "set_count = 1\n",
    "\n",
    "# Loop through all the cities in our list to fetch weather data\n",
    "for i, city in enumerate(cities):\n",
    "        \n",
    "    # Group cities in sets of 50 for logging purposes\n",
    "    if (i % 50 == 0 and i >= 50):\n",
    "        set_count += 1\n",
    "        record_count = 0\n",
    "\n",
    "    # Create endpoint URL with each city\n",
    "    city_url = url + f\"&q={city}\"\n",
    "    \n",
    "    # Log the url, record, and set numbers\n",
    "    print(\"Processing Record %s of Set %s | %s\" % (record_count, set_count, city))\n",
    "\n",
    "    # Add 1 to the record count\n",
    "    record_count += 1\n",
    "\n",
    "    # Run an API request for each of the cities\n",
    "    try:\n",
    "        # Parse the JSON and retrieve data\n",
    "        city_weather = requests.get(city_url).json()\n",
    "\n",
    "        # Parse out latitude, longitude, max temp, humidity, cloudiness, wind speed, country, and date\n",
    "        city_lat = city_weather[\"coord\"][\"lat\"]\n",
    "        city_lng = city_weather[\"coord\"][\"lon\"]\n",
    "        city_max_temp = city_weather[\"main\"][\"temp\"]\n",
    "        city_humidity = city_weather[\"main\"][\"humidity\"]\n",
    "        city_clouds = city_weather[\"clouds\"][\"all\"]\n",
    "        city_wind = city_weather[\"wind\"][\"speed\"]\n",
    "        city_country = city_weather[\"sys\"][\"country\"]\n",
    "        city_date = city_weather[\"dt\"]\n",
    "        \n",
    "        # Append the City information into city_data list\n",
    "        city_data.append({\"City\": city, \n",
    "                          \"Lat\": city_lat, \n",
    "                          \"Lng\": city_lng, \n",
    "                          \"Max Temp\": city_max_temp,\n",
    "                          \"Humidity\": city_humidity,\n",
    "                          \"Cloudiness\": city_clouds,\n",
    "                          \"Wind Speed\": city_wind,\n",
    "                          \"Country\": city_country,\n",
    "                          \"Date\": city_date})\n",
    "\n",
    "    # If an error is experienced, skip the city\n",
    "    except Exception as e:\n",
    "        print(e)\n",
    "        print(\"City not found. Skipping...\")\n",
    "        pass\n",
    "    # sleep\n",
    "    time.sleep(1)\n",
    "    \n",
    "# Indicate that Data Loading is complete \n",
    "print(\"-----------------------------\")\n",
    "print(\"Data Retrieval Complete      \")\n",
    "print(\"-----------------------------\")"
   ]
  },
  {
   "cell_type": "code",
   "execution_count": null,
   "metadata": {},
   "outputs": [],
   "source": [
    "# Convert the cities weather data into a Pandas DataFrame\n",
    "city_data_df = pd.DataFrame(city_data)\n",
    "\n",
    "# Show Record Count\n",
    "city_data_df.count()"
   ]
  },
  {
   "cell_type": "code",
   "execution_count": null,
   "metadata": {},
   "outputs": [],
   "source": [
    "# Display sample data\n",
    "city_data_df.head()"
   ]
  },
  {
   "cell_type": "code",
   "execution_count": null,
   "metadata": {},
   "outputs": [],
   "source": [
    "# Export the City_Data into a csv\n",
    "city_data_df.to_csv(\"../output_data/cities.csv\", index_label=\"City_ID\")"
   ]
  },
  {
   "cell_type": "code",
   "execution_count": null,
   "metadata": {},
   "outputs": [],
   "source": [
    "# Read saved data\n",
    "city_data_df = pd.read_csv(\"../output_data/cities.csv\", index_col=\"City_ID\")\n",
    "\n",
    "# Display sample data\n",
    "city_data_df.head()"
   ]
  },
  {
   "cell_type": "markdown",
   "metadata": {},
   "source": [
    "### Create the Scatter Plots Requested\n",
    "\n",
    "#### Latitude Vs. Temperature"
   ]
  },
  {
   "cell_type": "code",
   "execution_count": null,
   "metadata": {},
   "outputs": [],
   "source": [
    "#consitent color/ allows for quick changes\n",
    "select = \"skyblue\""
   ]
  },
  {
   "cell_type": "code",
   "execution_count": null,
   "metadata": {
    "tags": []
   },
   "outputs": [],
   "source": [
    "# Build scatter plot for latitude vs. temperature\n",
    "plt.figure(figsize=(10,6))\n",
    "plt.scatter(city_data_df[\"Lat\"], city_data_df[\"Max Temp\"], color=select, s=150)\n",
    "\n",
    "# Incorporate the other graph properties\n",
    "plt.xlabel(\"Latitude\")\n",
    "plt.ylabel(\"Temperature (F)\")\n",
    "plt.title(\"Latitude vs Temperature\")\n",
    "plt.grid(axis=\"both\", color=\"lightgrey\", linestyle=\"--\", alpha=0.2)\n",
    "\n",
    "# Save the figure\n",
    "plt.savefig(\"../output_data/Fig1.png\")\n",
    "\n",
    "# Show plot\n",
    "plt.show()"
   ]
  },
  {
   "cell_type": "markdown",
   "metadata": {},
   "source": [
    "#### Latitude Vs. Humidity"
   ]
  },
  {
   "cell_type": "code",
   "execution_count": null,
   "metadata": {},
   "outputs": [],
   "source": [
    "# Build the scatter plots for latitude vs. humidity\n",
    "plt.figure(figsize=(10,6))\n",
    "plt.scatter(city_data_df[\"Lat\"], city_data_df[\"Humidity\"], color=select, s=150)\n",
    "\n",
    "# Incorporate the other graph properties\n",
    "plt.xlabel(\"Latitude\")\n",
    "plt.ylabel(\"Humidity (%)\")\n",
    "plt.title(\"Latitude vs Humidity\")\n",
    "plt.grid(axis=\"both\", color=\"lightgrey\", linestyle=\"--\", alpha=0.2)\n",
    "\n",
    "# Save the figure\n",
    "plt.savefig(\"../output_data/Fig2.png\")\n",
    "\n",
    "# Show plot\n",
    "plt.show()"
   ]
  },
  {
   "cell_type": "markdown",
   "metadata": {},
   "source": [
    "#### Latitude Vs. Cloudiness"
   ]
  },
  {
   "cell_type": "code",
   "execution_count": null,
   "metadata": {},
   "outputs": [],
   "source": [
    "# Build scatter plot for latitude vs. temperature\n",
    "plt.figure(figsize=(10,6))\n",
    "plt.scatter(city_data_df[\"Lat\"], city_data_df[\"Cloudiness\"], color=select, s=150)\n",
    "\n",
    "# Incorporate the other graph properties\n",
    "plt.xlabel(\"Latitude\")\n",
    "plt.ylabel(\"Cloudiness (%)\")\n",
    "plt.title(\"Latitude vs Cloudiness\")\n",
    "plt.grid(axis=\"both\", color=\"lightgrey\", linestyle=\"--\", alpha=0.2)\n",
    "\n",
    "# Save the figure\n",
    "plt.savefig(\"../output_data/Fig3.png\")\n",
    "\n",
    "# Show plot\n",
    "plt.show()"
   ]
  },
  {
   "cell_type": "markdown",
   "metadata": {},
   "source": [
    "#### Latitude vs. Wind Speed Plot"
   ]
  },
  {
   "cell_type": "code",
   "execution_count": null,
   "metadata": {},
   "outputs": [],
   "source": [
    "# Build scatter plot for latitude vs. temperature\n",
    "plt.figure(figsize=(10,6))\n",
    "plt.scatter(city_data_df[\"Lat\"], city_data_df[\"Wind Speed\"], color=select, s=150)\n",
    "\n",
    "# Incorporate the other graph properties\n",
    "plt.xlabel(\"Latitude\")\n",
    "plt.ylabel(\"Wind Speed (mile/hour)\")\n",
    "plt.title(\"Latitude vs Wind Speed\")\n",
    "plt.grid(axis=\"both\", color=\"lightgrey\", linestyle=\"--\", alpha=0.2)\n",
    "\n",
    "# Save the figure\n",
    "plt.savefig(\"../output_data/Fig4.png\")\n",
    "\n",
    "# Show plot\n",
    "plt.show()"
   ]
  },
  {
   "cell_type": "markdown",
   "metadata": {},
   "source": [
    "---\n",
    "\n",
    "## Requirement 2: Compute Linear Regression for Each Relationship\n"
   ]
  },
  {
   "cell_type": "code",
   "execution_count": null,
   "metadata": {},
   "outputs": [],
   "source": [
    "# Define a function to create Linear Regression plots\n",
    "def plot_linear_regression(x_values, y_values, title, text_coordinates):\n",
    "    \n",
    "    # Compute linear regression\n",
    "    (slope, intercept, rvalue, pvalue, stderr) = linregress(x_values, y_values)\n",
    "    regress_values = x_values * slope + intercept\n",
    "    line_eq = \"y = \" + str(round(slope,2)) + \"x + \" + str(round(intercept,2))\n",
    "    \n",
    "    # Plot\n",
    "    plt.scatter(x_values,y_values, color=select)\n",
    "    plt.plot(x_values,regress_values,\"r-\")\n",
    "    plt.annotate(line_eq,(x_values.min(),y_values.min()),fontsize=15,color=\"red\")\n",
    "    plt.xlabel(\"Latitude\")\n",
    "    plt.ylabel(title)\n",
    "    print(f\"The r-value is: {rvalue**2}\")\n",
    "    plt.show()"
   ]
  },
  {
   "cell_type": "code",
   "execution_count": null,
   "metadata": {},
   "outputs": [],
   "source": [
    "# Create a DataFrame with the Northern Hemisphere data (Latitude >= 0)\n",
    "northern_hemi_df = city_data_df.loc[city_data_df.Lat >= 0].reset_index(drop=True)\n",
    "\n",
    "# Display sample data\n",
    "northern_hemi_df.head()"
   ]
  },
  {
   "cell_type": "code",
   "execution_count": null,
   "metadata": {},
   "outputs": [],
   "source": [
    "# Create a DataFrame with the Southern Hemisphere data (Latitude < 0)\n",
    "southern_hemi_df = city_data_df.loc[city_data_df.Lat < 0].reset_index(drop=True)\n",
    "\n",
    "# Display sample data\n",
    "southern_hemi_df.head()"
   ]
  },
  {
   "cell_type": "markdown",
   "metadata": {},
   "source": [
    "###  Temperature vs. Latitude Linear Regression Plot"
   ]
  },
  {
   "cell_type": "code",
   "execution_count": null,
   "metadata": {},
   "outputs": [],
   "source": [
    "# Linear regression on Northern Hemisphere\n",
    "x_values = northern_hemi_df[\"Lat\"]\n",
    "y_values = northern_hemi_df[\"Max Temp\"]\n",
    "plot_linear_regression(x_values, y_values, \"Temperature\",(6,-10))"
   ]
  },
  {
   "cell_type": "code",
   "execution_count": null,
   "metadata": {},
   "outputs": [],
   "source": [
    "# Linear regression on Southern Hemisphere\n",
    "x_values = southern_hemi_df[\"Lat\"]\n",
    "y_values = southern_hemi_df[\"Max Temp\"]\n",
    "plot_linear_regression(x_values, y_values, \"Temperature\",(6,-10))"
   ]
  },
  {
   "cell_type": "markdown",
   "metadata": {},
   "source": [
    "**Discussion about the linear relationship:** Based on residual values of about .67 for the northern hemisphere and about .71 for the southern hemisphere, the graphs show some correlation between latitude and temperature. For the northern hemisphere, there is a negative correlation where a rise in the latitude leads to a drop in temperature. The southern hemisphere has the opposite relationship where a drop in latitude leads to a drop in temperature. This makes sense given the relationship between the north and south pole and the amount of direct sunlight recieved in these locations."
   ]
  },
  {
   "cell_type": "markdown",
   "metadata": {},
   "source": [
    "### Humidity vs. Latitude Linear Regression Plot"
   ]
  },
  {
   "cell_type": "code",
   "execution_count": null,
   "metadata": {},
   "outputs": [],
   "source": [
    "# Northern Hemisphere\n",
    "x_values = northern_hemi_df[\"Lat\"]\n",
    "y_values = northern_hemi_df[\"Humidity\"]\n",
    "plot_linear_regression(x_values, y_values, \"Humidity\",(6,-10))"
   ]
  },
  {
   "cell_type": "code",
   "execution_count": null,
   "metadata": {},
   "outputs": [],
   "source": [
    "# Southern Hemisphere\n",
    "x_values = southern_hemi_df[\"Lat\"]\n",
    "y_values = southern_hemi_df[\"Humidity\"]\n",
    "plot_linear_regression(x_values, y_values, \"Humidity\",(6,-10))"
   ]
  },
  {
   "cell_type": "markdown",
   "metadata": {},
   "source": [
    "**Discussion about the linear relationship:** The residuals comparing humidity to latitude in both hemisphers are very close to zero. This shows that there is no linear correlation to humidity and latitude. "
   ]
  },
  {
   "cell_type": "markdown",
   "metadata": {},
   "source": [
    "### Cloudiness vs. Latitude Linear Regression Plot"
   ]
  },
  {
   "cell_type": "code",
   "execution_count": null,
   "metadata": {},
   "outputs": [],
   "source": [
    "# Northern Hemisphere\n",
    "x_values = northern_hemi_df[\"Lat\"]\n",
    "y_values = northern_hemi_df[\"Cloudiness\"]\n",
    "plot_linear_regression(x_values, y_values, \"Cloudiness\",(6,-10))"
   ]
  },
  {
   "cell_type": "code",
   "execution_count": null,
   "metadata": {},
   "outputs": [],
   "source": [
    "# Southern Hemisphere\n",
    "x_values = southern_hemi_df[\"Lat\"]\n",
    "y_values = southern_hemi_df[\"Cloudiness\"]\n",
    "plot_linear_regression(x_values, y_values, \"Cloudiness\",(6,-10))"
   ]
  },
  {
   "cell_type": "markdown",
   "metadata": {},
   "source": [
    "**Discussion about the linear relationship:** The residuals comparing cloudiness to latitude in both hemisphers are very close to zero. This shows that there is no linear correlation to cloudiness and latitude. "
   ]
  },
  {
   "cell_type": "markdown",
   "metadata": {},
   "source": [
    "### Wind Speed vs. Latitude Linear Regression Plot"
   ]
  },
  {
   "cell_type": "code",
   "execution_count": null,
   "metadata": {},
   "outputs": [],
   "source": [
    "# Northern Hemisphere\n",
    "x_values = northern_hemi_df[\"Lat\"]\n",
    "y_values = northern_hemi_df[\"Wind Speed\"]\n",
    "plot_linear_regression(x_values, y_values, \"Wind Speed\",(6,-10))"
   ]
  },
  {
   "cell_type": "code",
   "execution_count": null,
   "metadata": {},
   "outputs": [],
   "source": [
    "# Southern Hemisphere\n",
    "x_values = southern_hemi_df[\"Lat\"]\n",
    "y_values = southern_hemi_df[\"Wind Speed\"]\n",
    "plot_linear_regression(x_values, y_values, \"Wind Speed\",(6,-10))"
   ]
  },
  {
   "cell_type": "markdown",
   "metadata": {},
   "source": [
    "**Discussion about the linear relationship:** The residuals comparing wind speed to latitude in both hemisphers are very close to zero. This shows that there is no linear correlation to wind speed and latitude. However, the closer to the poles (-100 SH, 100 NH) the cities are seem to show some possible outliers in both graphs. An alternative model may find more information. "
   ]
  },
  {
   "cell_type": "code",
   "execution_count": null,
   "metadata": {},
   "outputs": [],
   "source": []
  }
 ],
 "metadata": {
  "anaconda-cloud": {},
  "kernel_info": {
   "name": "python3"
  },
  "kernelspec": {
   "display_name": "Python 3 (ipykernel)",
   "language": "python",
   "name": "python3"
  },
  "language_info": {
   "codemirror_mode": {
    "name": "ipython",
    "version": 3
   },
   "file_extension": ".py",
   "mimetype": "text/x-python",
   "name": "python",
   "nbconvert_exporter": "python",
   "pygments_lexer": "ipython3",
   "version": "3.10.9"
  },
  "latex_envs": {
   "LaTeX_envs_menu_present": true,
   "autoclose": false,
   "autocomplete": true,
   "bibliofile": "biblio.bib",
   "cite_by": "apalike",
   "current_citInitial": 1,
   "eqLabelWithNumbers": true,
   "eqNumInitial": 1,
   "hotkeys": {
    "equation": "Ctrl-E",
    "itemize": "Ctrl-I"
   },
   "labels_anchors": false,
   "latex_user_defs": false,
   "report_style_numbering": false,
   "user_envs_cfg": false
  },
  "nteract": {
   "version": "0.12.3"
  }
 },
 "nbformat": 4,
 "nbformat_minor": 4
}
